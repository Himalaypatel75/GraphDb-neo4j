{
 "cells": [
  {
   "cell_type": "code",
   "execution_count": 1,
   "metadata": {},
   "outputs": [
    {
     "data": {
      "text/plain": [
       "True"
      ]
     },
     "execution_count": 1,
     "metadata": {},
     "output_type": "execute_result"
    }
   ],
   "source": [
    "from dotenv import load_dotenv\n",
    "\n",
    "load_dotenv()"
   ]
  },
  {
   "cell_type": "code",
   "execution_count": 3,
   "metadata": {},
   "outputs": [],
   "source": [
    "from langchain_groq import ChatGroq\n",
    "\n",
    "llm = ChatGroq(\n",
    "    model=\"llama-3.2-90b-vision-preview\",\n",
    "    temperature=0,\n",
    "    max_tokens=None,\n",
    "    timeout=None,\n",
    "    max_retries=2,\n",
    ")"
   ]
  },
  {
   "cell_type": "code",
   "execution_count": 20,
   "metadata": {},
   "outputs": [
    {
     "name": "stdout",
     "output_type": "stream",
     "text": [
      "Saved output_images/page_1.png\n",
      "Saved output_images/page_2.png\n",
      "Saved output_images/page_3.png\n",
      "Saved output_images/page_4.png\n"
     ]
    }
   ],
   "source": [
    "from pdf2image import convert_from_path\n",
    "import os\n",
    "\n",
    "# Path to your PDF file\n",
    "pdf_path = \"reya.pdf\"\n",
    "output_folder = \"output_images\"\n",
    "\n",
    "# Create output folder if it doesn't exist\n",
    "if not os.path.exists(output_folder):\n",
    "    os.makedirs(output_folder)\n",
    "\n",
    "# Convert PDF to images\n",
    "images = convert_from_path(pdf_path, dpi=500)\n",
    "\n",
    "# Save each page as a separate image\n",
    "for i, image in enumerate(images):\n",
    "    image_path = os.path.join(output_folder, f\"page_{i + 1}.png\")\n",
    "    image.save(image_path, \"PNG\")\n",
    "    print(f\"Saved {image_path}\")\n"
   ]
  },
  {
   "cell_type": "code",
   "execution_count": 11,
   "metadata": {},
   "outputs": [],
   "source": [
    "import base64\n",
    "\n",
    "# Function to encode the image\n",
    "def encode_image(image_path):\n",
    "  with open(image_path, \"rb\") as image_file:\n",
    "    return base64.b64encode(image_file.read()).decode('utf-8')"
   ]
  },
  {
   "cell_type": "code",
   "execution_count": 22,
   "metadata": {},
   "outputs": [],
   "source": [
    "# Path to your image\n",
    "image_path = \"output_images/page_1.png\"\n",
    "\n",
    "# Getting the base64 string\n",
    "base64_image = encode_image(image_path)"
   ]
  },
  {
   "cell_type": "code",
   "execution_count": 23,
   "metadata": {},
   "outputs": [
    {
     "name": "stdout",
     "output_type": "stream",
     "text": [
      "Here is the question and answer extracted from the image:\n",
      "\n",
      "Question: What is the name of the student?\n",
      "Answer: C.S. Brijpuri\n",
      "\n",
      "Question: What is the class of the student?\n",
      "Answer: 6\n",
      "\n",
      "Question: What is the section of the student?\n",
      "Answer: A\n",
      "\n",
      "Question: What is the roll number of the student?\n",
      "Answer: 6129\n",
      "\n",
      "Question: Section 1: One word answers\n",
      "Answer:\n",
      "\n",
      "Q1. C\n",
      "Q2. C\n",
      "Q3. B\n",
      "Q4(i). B\n",
      "Q4(ii). B\n",
      "Q4(iii). D\n",
      "Q4(iv). A\n",
      "Q4(v). C\n",
      "Q5(i). F\n",
      "Q5(ii). F\n",
      "Q5(iii). F\n",
      "\n",
      "Here is the JSON format of the question and answer data:\n",
      "```\n",
      "[\n",
      "  {\n",
      "    \"question\": \"What is the name of the student?\",\n",
      "    \"answer\": \"C.S. Brijpuri\"\n",
      "  },\n",
      "  {\n",
      "    \"question\": \"What is the class of the student?\",\n",
      "    \"answer\": \"6\"\n",
      "  },\n",
      "  {\n",
      "    \"question\": \"What is the section of the student?\",\n",
      "    \"answer\": \"A\"\n",
      "  },\n",
      "  {\n",
      "    \"question\": \"What is the roll number of the student?\",\n",
      "    \"answer\": \"6129\"\n",
      "  },\n",
      "  {\n",
      "    \"question\": \"Section 1: One word answers\",\n",
      "    \"answers\": [\n",
      "      \"Q1. C\",\n",
      "      \"Q2. C\",\n",
      "      \"Q3. B\",\n",
      "      \"Q4(i). B\",\n",
      "      \"Q4(ii). B\",\n",
      "      \"Q4(iii). D\",\n",
      "      \"Q4(iv). A\",\n",
      "      \"Q4(v). C\",\n",
      "      \"Q5(i). F\",\n",
      "      \"Q5(ii). F\",\n",
      "      \"Q5(iii). F\"\n",
      "    ]\n",
      "  }\n",
      "]\n",
      "```\n"
     ]
    }
   ],
   "source": [
    "from groq import Groq\n",
    "\n",
    "client = Groq()\n",
    "\n",
    "chat_completion = client.chat.completions.create(\n",
    "    messages=[\n",
    "        {\n",
    "            \"role\": \"user\",\n",
    "            \"content\": [\n",
    "                {\"type\": \"text\", \"text\": \"This is question answer sheet by student. can you extract question answer and give it in json format\"},\n",
    "                {\n",
    "                    \"type\": \"image_url\",\n",
    "                    \"image_url\": {\n",
    "                        \"url\": f\"data:image/jpeg;base64,{base64_image}\",\n",
    "                    },\n",
    "                },\n",
    "            ],\n",
    "        }\n",
    "    ],\n",
    "    model=\"llama-3.2-90b-vision-preview\",\n",
    ")\n",
    "\n",
    "print(chat_completion.choices[0].message.content)\n"
   ]
  },
  {
   "cell_type": "code",
   "execution_count": 10,
   "metadata": {},
   "outputs": [
    {
     "name": "stderr",
     "output_type": "stream",
     "text": [
      "/home/himalay/Documents/LEARNING/GraphDb-neo4j/venv/lib/python3.9/site-packages/tqdm/auto.py:21: TqdmWarning: IProgress not found. Please update jupyter and ipywidgets. See https://ipywidgets.readthedocs.io/en/stable/user_install.html\n",
      "  from .autonotebook import tqdm as notebook_tqdm\n"
     ]
    },
    {
     "data": {
      "text/plain": [
       "Document(metadata={'source': './output_images/page_1.png', 'detection_class_prob': 0.6238077878952026, 'coordinates': {'points': ((1611.7508544921875, 125.47444915771484), (1611.7508544921875, 175.7082061767578), (1749.9305419921875, 175.7082061767578), (1749.9305419921875, 125.47444915771484)), 'system': 'PixelSpace', 'layout_width': 3306, 'layout_height': 4678}, 'last_modified': '2024-11-12T12:46:43', 'filetype': 'PNG', 'languages': ['eng'], 'page_number': 1, 'file_directory': './output_images', 'filename': 'page_1.png', 'category': 'Header', 'element_id': '7031e2c48a936dbf25af5b646a868cc7'}, page_content='Page 1')"
      ]
     },
     "execution_count": 10,
     "metadata": {},
     "output_type": "execute_result"
    }
   ],
   "source": [
    "from langchain_community.document_loaders.image import UnstructuredImageLoader\n",
    "\n",
    "loader = UnstructuredImageLoader(\"./output_images/page_1.png\", mode=\"elements\")\n",
    "\n",
    "data = loader.load()\n",
    "\n",
    "data[0]"
   ]
  }
 ],
 "metadata": {
  "kernelspec": {
   "display_name": "venv",
   "language": "python",
   "name": "python3"
  },
  "language_info": {
   "codemirror_mode": {
    "name": "ipython",
    "version": 3
   },
   "file_extension": ".py",
   "mimetype": "text/x-python",
   "name": "python",
   "nbconvert_exporter": "python",
   "pygments_lexer": "ipython3",
   "version": "3.9.20"
  }
 },
 "nbformat": 4,
 "nbformat_minor": 2
}
