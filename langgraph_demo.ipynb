{
 "cells": [
  {
   "cell_type": "code",
   "execution_count": 1,
   "metadata": {},
   "outputs": [
    {
     "data": {
      "text/plain": [
       "True"
      ]
     },
     "execution_count": 1,
     "metadata": {},
     "output_type": "execute_result"
    }
   ],
   "source": [
    "from dotenv import load_dotenv\n",
    "\n",
    "load_dotenv()"
   ]
  },
  {
   "cell_type": "code",
   "execution_count": 2,
   "metadata": {},
   "outputs": [],
   "source": [
    "from typing import Annotated\n",
    "\n",
    "from typing_extensions import TypedDict\n",
    "\n",
    "from langgraph.graph import StateGraph, START, END\n",
    "from langgraph.graph.message import add_messages\n",
    "\n",
    "\n",
    "class State(TypedDict):\n",
    "    # Messages have the type \"list\". The `add_messages` function\n",
    "    # in the annotation defines how this state key should be updated\n",
    "    # (in this case, it appends messages to the list, rather than overwriting them)\n",
    "    messages: Annotated[list, add_messages]\n",
    "\n",
    "\n",
    "graph_builder = StateGraph(State)"
   ]
  },
  {
   "cell_type": "code",
   "execution_count": 4,
   "metadata": {},
   "outputs": [
    {
     "data": {
      "text/plain": [
       "<langgraph.graph.state.StateGraph at 0x714b005e2f10>"
      ]
     },
     "execution_count": 4,
     "metadata": {},
     "output_type": "execute_result"
    }
   ],
   "source": [
    "from langchain_anthropic import ChatAnthropic\n",
    "\n",
    "llm = ChatAnthropic(model=\"claude-3-5-sonnet-20240620\")\n",
    "\n",
    "\n",
    "def chatbot(state: State):\n",
    "    return {\"messages\": [llm.invoke(state[\"messages\"])]}\n",
    "\n",
    "\n",
    "# The first argument is the unique node name\n",
    "# The second argument is the function or object that will be called whenever\n",
    "# the node is used.\n",
    "graph_builder.add_node(\"chatbot\", chatbot)"
   ]
  },
  {
   "cell_type": "code",
   "execution_count": 5,
   "metadata": {},
   "outputs": [],
   "source": [
    "from langchain_groq import ChatGroq\n",
    "\n",
    "# Initialize Groq client (direct initialization)\n",
    "llm = ChatGroq(model=\"llama3-70b-8192\", temperature=0)"
   ]
  },
  {
   "cell_type": "code",
   "execution_count": 7,
   "metadata": {},
   "outputs": [],
   "source": [
    "def chatbot(state: State):\n",
    "    return {\"messages\": [llm.invoke(state[\"messages\"])]}\n",
    "\n",
    "\n",
    "# The first argument is the unique node name\n",
    "# The second argument is the function or object that will be called whenever\n",
    "# the node is used.\n",
    "# graph_builder.add_node(\"chatbot\", chatbot)"
   ]
  },
  {
   "cell_type": "code",
   "execution_count": 10,
   "metadata": {},
   "outputs": [
    {
     "name": "stdout",
     "output_type": "stream",
     "text": [
      "Error:- Node `chatbot` already present.\n"
     ]
    }
   ],
   "source": [
    "try:\n",
    "    graph_builder.add_node(\"chatbot\", chatbot)\n",
    "except Exception as e:\n",
    "    print(f\"Error:- {e}\")"
   ]
  },
  {
   "cell_type": "code",
   "execution_count": 11,
   "metadata": {},
   "outputs": [
    {
     "data": {
      "text/plain": [
       "<langgraph.graph.state.StateGraph at 0x714b005e2f10>"
      ]
     },
     "execution_count": 11,
     "metadata": {},
     "output_type": "execute_result"
    }
   ],
   "source": [
    "graph_builder.add_edge(START, \"chatbot\")"
   ]
  },
  {
   "cell_type": "code",
   "execution_count": 12,
   "metadata": {},
   "outputs": [
    {
     "data": {
      "text/plain": [
       "<langgraph.graph.state.StateGraph at 0x714b005e2f10>"
      ]
     },
     "execution_count": 12,
     "metadata": {},
     "output_type": "execute_result"
    }
   ],
   "source": [
    "graph_builder.add_edge(\"chatbot\", END)"
   ]
  },
  {
   "cell_type": "code",
   "execution_count": 13,
   "metadata": {},
   "outputs": [],
   "source": [
    "graph = graph_builder.compile()"
   ]
  },
  {
   "cell_type": "code",
   "execution_count": 14,
   "metadata": {},
   "outputs": [
    {
     "data": {
      "image/jpeg": "[encoded data removed]",
      "text/plain": [
       "<IPython.core.display.Image object>"
      ]
     },
     "metadata": {},
     "output_type": "display_data"
    }
   ],
   "source": [
    "from IPython.display import Image, display\n",
    "\n",
    "try:\n",
    "    display(Image(graph.get_graph().draw_mermaid_png()))\n",
    "except Exception:\n",
    "    # This requires some extra dependencies and is optional\n",
    "    pass"
   ]
  },
  {
   "cell_type": "code",
   "execution_count": 15,
   "metadata": {},
   "outputs": [
    {
     "name": "stdout",
     "output_type": "stream",
     "text": [
      "Assistant: Hello! It's nice to meet you. Is there something I can help you with, or would you like to chat?\n",
      "Assistant: The stock market of India! It's a vibrant and dynamic market that has grown significantly over the years. Here's an overview:\n",
      "\n",
      "**History**: The Indian stock market has a rich history dating back to 1875, when the Bombay Stock Exchange (BSE) was established. The National Stock Exchange of India (NSE) was set up in 1992, and it has since become one of the largest stock exchanges in the country.\n",
      "\n",
      "**Stock Exchanges**: There are two main stock exchanges in India:\n",
      "\n",
      "1. **Bombay Stock Exchange (BSE)**: Established in 1875, BSE is the oldest stock exchange in Asia and one of the largest in the world. It has over 5,000 listed companies.\n",
      "2. **National Stock Exchange of India (NSE)**: Established in 1992, NSE is one of the largest stock exchanges in India, with over 1,900 listed companies.\n",
      "\n",
      "**Indices**: The Indian stock market has several indices that track the performance of the market. The two most popular indices are:\n",
      "\n",
      "1. **Sensex**: Also known as the BSE Sensex, it is the benchmark index of the BSE, comprising 30 of the largest and most actively traded stocks.\n",
      "2. **Nifty**: Also known as the NSE Nifty, it is the benchmark index of the NSE, comprising 50 of the largest and most actively traded stocks.\n",
      "\n",
      "**Market Capitalization**: The Indian stock market has a total market capitalization of over $2.5 trillion, making it one of the largest in the world.\n",
      "\n",
      "**Regulatory Bodies**: The Indian stock market is regulated by:\n",
      "\n",
      "1. **Securities and Exchange Board of India (SEBI)**: Established in 1988, SEBI is the primary regulator of the Indian stock market, responsible for protecting the interests of investors and promoting the development of the market.\n",
      "2. **Ministry of Finance**: The Ministry of Finance, Government of India, also plays a crucial role in regulating the stock market.\n",
      "\n",
      "**Investment Options**: The Indian stock market offers a wide range of investment options, including:\n",
      "\n",
      "1. **Equities**: Stocks of Indian companies listed on the BSE and NSE.\n",
      "2. **Derivatives**: Futures and options contracts on indices, stocks, and commodities.\n",
      "3. **Mutual Funds**: Investment schemes that pool money from investors to invest in stocks, bonds, and other securities.\n",
      "4. **Exchange-Traded Funds (ETFs)**: Investment funds that track a particular index or sector.\n",
      "5. **Initial Public Offerings (IPOs)**: Opportunities for investors to buy shares of companies going public for the first time.\n",
      "\n",
      "**Investor Base**: The Indian stock market has a diverse investor base, including:\n",
      "\n",
      "1. **Individual Investors**: Retail investors who invest directly in the market.\n",
      "2. **Institutional Investors**: Mutual funds, pension funds, insurance companies, and foreign institutional investors (FIIs).\n",
      "3. **Foreign Portfolio Investors (FPIs)**: Foreign investors who invest in Indian stocks and bonds.\n",
      "\n",
      "**Challenges**: The Indian stock market faces several challenges, including:\n",
      "\n",
      "1. **Volatility**: The market can be volatile, with prices fluctuating rapidly.\n",
      "2. **Regulatory Changes**: Frequent changes in regulations can impact investor sentiment.\n",
      "3. **Economic Uncertainty**: Economic downturns or global events can affect market performance.\n",
      "4. **Liquidity**: Illiquidity in certain stocks or sectors can make it difficult to buy or sell shares.\n",
      "\n",
      "**Growth Prospects**: Despite the challenges, the Indian stock market has significant growth prospects, driven by:\n",
      "\n",
      "1. **Economic Growth**: India's growing economy and increasing GDP.\n",
      "2. **Demographic Dividend**: A large and young population with increasing disposable income.\n",
      "3. **Financial Inclusion**: Increasing access to financial services and investment opportunities.\n",
      "4. **Government Initiatives**: Initiatives such as \"Make in India\" and \"Digital India\" are expected to boost economic growth and attract foreign investment.\n",
      "\n",
      "Overall, the Indian stock market offers a promising investment opportunity for those who are willing to take calculated risks and have a long-term perspective.\n",
      "Goodbye!\n"
     ]
    }
   ],
   "source": [
    "def stream_graph_updates(user_input: str):\n",
    "    for event in graph.stream({\"messages\": [(\"user\", user_input)]}):\n",
    "        for value in event.values():\n",
    "            print(\"Assistant:\", value[\"messages\"][-1].content)\n",
    "\n",
    "\n",
    "while True:\n",
    "    try:\n",
    "        user_input = input(\"User: \")\n",
    "        if user_input.lower() in [\"quit\", \"exit\", \"q\"]:\n",
    "            print(\"Goodbye!\")\n",
    "            break\n",
    "\n",
    "        stream_graph_updates(user_input)\n",
    "    except:\n",
    "        # fallback if input() is not available\n",
    "        user_input = \"What do you know about LangGraph?\"\n",
    "        print(\"User: \" + user_input)\n",
    "        stream_graph_updates(user_input)\n",
    "        break"
   ]
  }
 ],
 "metadata": {
  "kernelspec": {
   "display_name": "env",
   "language": "python",
   "name": "python3"
  },
  "language_info": {
   "codemirror_mode": {
    "name": "ipython",
    "version": 3
   },
   "file_extension": ".py",
   "mimetype": "text/x-python",
   "name": "python",
   "nbconvert_exporter": "python",
   "pygments_lexer": "ipython3",
   "version": "3.9.20"
  }
 },
 "nbformat": 4,
 "nbformat_minor": 2
}
