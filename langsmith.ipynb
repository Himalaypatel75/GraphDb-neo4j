{
 "cells": [
  {
   "cell_type": "code",
   "execution_count": 52,
   "metadata": {},
   "outputs": [],
   "source": [
    "from dotenv import load_dotenv\n",
    "\n",
    "load_dotenv()\n",
    "import os\n",
    "\n",
    "os.environ['LANGCHAIN_TRACING_V2']=\"true\"\n",
    "os.environ['OPENAI_API_KEY']=os.getenv('OPENAI_API_KEY')\n",
    "os.environ['LANGCHAIN_API_KEY']=os.getenv('LANGCHAIN_API_KEY')"
   ]
  },
  {
   "cell_type": "code",
   "execution_count": null,
   "metadata": {},
   "outputs": [
    {
     "name": "stdout",
     "output_type": "stream",
     "text": [
      "The classic \"Hello, world!\" It's great to see you're excited to start our conversation! How can I assist you today? Do you have a specific question, topic, or just want to chat? I'm here to help!\n"
     ]
    }
   ],
   "source": [
    "from langchain_groq import ChatGroq\n",
    "from langsmith01 import traceable\n",
    "\n",
    "# Initialize Groq client (direct initialization)\n",
    "client = ChatGroq(model=\"llama3-70b-8192\")\n",
    "\n",
    "@traceable  # Auto-trace this function\n",
    "def pipeline(user_input: str):\n",
    "    # Depending on Groq's API, adjust method for creating completions\n",
    "    result = client.invoke([{\"role\": \"user\", \"content\": user_input}])\n",
    "    \n",
    "    # Return the result\n",
    "    return result\n",
    "\n",
    "# Test the function\n",
    "response = pipeline(\"Hello, world!\")\n",
    "print(response.content)  "
   ]
  }
 ],
 "metadata": {
  "kernelspec": {
   "display_name": "env",
   "language": "python",
   "name": "python3"
  },
  "language_info": {
   "codemirror_mode": {
    "name": "ipython",
    "version": 3
   },
   "file_extension": ".py",
   "mimetype": "text/x-python",
   "name": "python",
   "nbconvert_exporter": "python",
   "pygments_lexer": "ipython3",
   "version": "3.9.20"
  }
 },
 "nbformat": 4,
 "nbformat_minor": 2
}
