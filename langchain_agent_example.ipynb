{
 "cells": [
  {
   "cell_type": "code",
   "execution_count": 1,
   "metadata": {},
   "outputs": [
    {
     "data": {
      "text/plain": [
       "True"
      ]
     },
     "execution_count": 1,
     "metadata": {},
     "output_type": "execute_result"
    }
   ],
   "source": [
    "from dotenv import load_dotenv\n",
    "\n",
    "load_dotenv()"
   ]
  },
  {
   "cell_type": "code",
   "execution_count": 2,
   "metadata": {},
   "outputs": [],
   "source": [
    "from langchain_community.tools.tavily_search import TavilySearchResults"
   ]
  },
  {
   "cell_type": "code",
   "execution_count": 5,
   "metadata": {},
   "outputs": [
    {
     "data": {
      "text/plain": [
       "[{'url': 'https://www.weatherapi.com/',\n",
       "  'content': \"{'location': {'name': 'Ahmedabad', 'region': 'Gujarat', 'country': 'India', 'lat': 23.0333, 'lon': 72.6167, 'tz_id': 'Asia/Kolkata', 'localtime_epoch': 1730968889, 'localtime': '2024-11-07 14:11'}, 'current': {'last_updated_epoch': 1730968200, 'last_updated': '2024-11-07 14:00', 'temp_c': 33.1, 'temp_f': 91.6, 'is_day': 1, 'condition': {'text': 'Overcast', 'icon': '//cdn.weatherapi.com/weather/64x64/day/122.png', 'code': 1009}, 'wind_mph': 2.2, 'wind_kph': 3.6, 'wind_degree': 303, 'wind_dir': 'WNW', 'pressure_mb': 1012.0, 'pressure_in': 29.88, 'precip_mm': 0.0, 'precip_in': 0.0, 'humidity': 32, 'cloud': 0, 'feelslike_c': 31.5, 'feelslike_f': 88.7, 'windchill_c': 34.8, 'windchill_f': 94.6, 'heatindex_c': 33.6, 'heatindex_f': 92.4, 'dewpoint_c': 10.9, 'dewpoint_f': 51.6, 'vis_km': 4.0, 'vis_miles': 2.0, 'uv': 4.7, 'gust_mph': 6.7, 'gust_kph': 10.8}}\"},\n",
       " {'url': 'https://www.hindustantimes.com/cities/ahmedabad-weather-today-aqi-and-rain-forecast-updates-july-11-2024-101720661421164.html',\n",
       "  'content': \"The temperature in Ahmedabad today, on July 11, 2024, is 33.16 °C. The day's forecast indicates a minimum and maximum temperature of 29.43 °C and 34.89 °C, respectively.\"},\n",
       " {'url': 'https://www.timeanddate.com/weather/india/ahmadabad/ext',\n",
       "  'content': 'Ahmedabad 14 Day Extended Forecast. Weather Today Weather Hourly 14 Day Forecast Yesterday/Past Weather Climate (Averages) Currently: 75 °F. Clear. (Weather station: Ahmadabad Airport, India). See more current weather.'},\n",
       " {'url': 'https://www.timeanddate.com/weather/@1279233/hourly',\n",
       "  'content': 'Time Zone News Calendar & Holiday News Time Zones Time Zones Home Time Zone News Weather Sun Calculator Moon Calculator Calculators Calculators Home Home \\xa0 Weather \\xa0 Ahmedabad \\xa0 Hour-by-hour Weather Time Zone Weather TodayWeather Hourly14 Day ForecastYesterday/Past WeatherClimate (Averages) °F See Extended Forecast for more weather Show weather on:  | 10:00 pm |  | 80\\xa0°F | Scattered clouds. | 11:00 pm |  | 82\\xa0°F | Scattered clouds. | 8:00 am |  | 82\\xa0°F | Cloudy. | 10:00 am |  | 86\\xa0°F | Scattered clouds. | * Updated Saturday, August 31, 2024 6:32:57 pm Ahmedabad time - Weather by CustomWeather, © 2024 |'},\n",
       " {'url': 'https://www.accuweather.com/en/in/ahmedabad/202438/current-weather/202438',\n",
       "  'content': 'Current weather in Ahmedabad, Gujarat, India. Check current conditions in Ahmedabad, Gujarat, India with radar, hourly, and more.'}]"
      ]
     },
     "execution_count": 5,
     "metadata": {},
     "output_type": "execute_result"
    }
   ],
   "source": [
    "search = TavilySearchResults()\n",
    "search.invoke(\"what is the weather in Ahmedabad\")"
   ]
  },
  {
   "cell_type": "markdown",
   "metadata": {},
   "source": [
    "# Retriever"
   ]
  },
  {
   "cell_type": "code",
   "execution_count": 8,
   "metadata": {},
   "outputs": [],
   "source": [
    "from langchain_community.document_loaders import WebBaseLoader\n",
    "from langchain_community.vectorstores import FAISS\n",
    "from langchain_openai import OpenAIEmbeddings\n",
    "from langchain_text_splitters import RecursiveCharacterTextSplitter\n",
    "\n",
    "loader = WebBaseLoader(\"https://docs.smith.langchain.com/overview\")\n",
    "docs = loader.load()\n",
    "documents = RecursiveCharacterTextSplitter(\n",
    "    chunk_size=1000, chunk_overlap=200\n",
    ").split_documents(docs)\n",
    "vector = FAISS.from_documents(documents, OpenAIEmbeddings())\n",
    "retriever = vector.as_retriever()"
   ]
  },
  {
   "cell_type": "code",
   "execution_count": 9,
   "metadata": {},
   "outputs": [
    {
     "data": {
      "text/plain": [
       "Document(metadata={'source': 'https://docs.smith.langchain.com/overview', 'title': 'Get started with LangSmith | 🦜️🛠️ LangSmith', 'description': 'LangSmith is a platform for building production-grade LLM applications. It allows you to closely monitor and evaluate your application, so you can ship quickly and with confidence. Use of LangChain is not necessary - LangSmith works on its own!', 'language': 'en'}, page_content='PythonTypeScriptfrom langsmith import Client, evaluateclient = Client()# Define dataset: these are your test casesdataset_name = \"Sample Dataset\"dataset = client.create_dataset(dataset_name, description=\"A sample dataset in LangSmith.\")client.create_examples(  inputs=[      {\"postfix\": \"to LangSmith\"},      {\"postfix\": \"to Evaluations in LangSmith\"},  ],  outputs=[      {\"output\": \"Welcome to LangSmith\"},      {\"output\": \"Welcome to Evaluations in LangSmith\"},  ],  dataset_id=dataset.id,)# Define your evaluatordef exact_match(run, example):  return {\"score\": run.outputs[\"output\"] == example.outputs[\"output\"]}experiment_results = evaluate(  lambda input: \"Welcome \" + input[\\'postfix\\'], # Your AI system goes here  data=dataset_name, # The data to predict and grade over  evaluators=[exact_match], # The evaluators to score the results  experiment_prefix=\"sample-experiment\", # The name of the experiment  metadata={    \"version\": \"1.0.0\",    \"revision_id\": \"beta\"  },)import { Client, Run,')"
      ]
     },
     "execution_count": 9,
     "metadata": {},
     "output_type": "execute_result"
    }
   ],
   "source": [
    "retriever.invoke(\"how to upload a dataset\")[0]"
   ]
  },
  {
   "cell_type": "code",
   "execution_count": 10,
   "metadata": {},
   "outputs": [],
   "source": [
    "from langchain.tools.retriever import create_retriever_tool"
   ]
  },
  {
   "cell_type": "code",
   "execution_count": 11,
   "metadata": {},
   "outputs": [],
   "source": [
    "retriever_tool = create_retriever_tool(\n",
    "    retriever,\n",
    "    \"langsmith_search\",\n",
    "    \"Search for information about LangSmith. For any questions about LangSmith, you must use this tool!\",\n",
    ")"
   ]
  },
  {
   "cell_type": "code",
   "execution_count": 12,
   "metadata": {},
   "outputs": [],
   "source": [
    "tools = [search, retriever_tool]"
   ]
  },
  {
   "cell_type": "code",
   "execution_count": 16,
   "metadata": {},
   "outputs": [],
   "source": [
    "from langchain_groq import ChatGroq\n",
    "\n",
    "# Initialize Groq client (direct initialization)\n",
    "llm = ChatGroq(model=\"llama3-70b-8192\", temperature=0)"
   ]
  },
  {
   "cell_type": "code",
   "execution_count": 15,
   "metadata": {},
   "outputs": [
    {
     "data": {
      "text/plain": [
       "[SystemMessagePromptTemplate(prompt=PromptTemplate(input_variables=[], input_types={}, partial_variables={}, template='You are a helpful assistant'), additional_kwargs={}),\n",
       " MessagesPlaceholder(variable_name='chat_history', optional=True),\n",
       " HumanMessagePromptTemplate(prompt=PromptTemplate(input_variables=['input'], input_types={}, partial_variables={}, template='{input}'), additional_kwargs={}),\n",
       " MessagesPlaceholder(variable_name='agent_scratchpad')]"
      ]
     },
     "execution_count": 15,
     "metadata": {},
     "output_type": "execute_result"
    }
   ],
   "source": [
    "from langchain import hub\n",
    "\n",
    "# Get the prompt to use - you can modify this!\n",
    "prompt = hub.pull(\"hwchase17/openai-functions-agent\")\n",
    "prompt.messages"
   ]
  },
  {
   "cell_type": "code",
   "execution_count": 17,
   "metadata": {},
   "outputs": [],
   "source": [
    "from langchain.agents import create_tool_calling_agent\n",
    "\n",
    "agent = create_tool_calling_agent(llm, tools, prompt)"
   ]
  },
  {
   "cell_type": "code",
   "execution_count": 18,
   "metadata": {},
   "outputs": [],
   "source": [
    "from langchain.agents import AgentExecutor\n",
    "\n",
    "agent_executor = AgentExecutor(agent=agent, tools=tools, verbose=True)"
   ]
  },
  {
   "cell_type": "code",
   "execution_count": null,
   "metadata": {},
   "outputs": [
    {
     "name": "stdout",
     "output_type": "stream",
     "text": [
      "\n",
      "\n",
      "\u001b[1m> Entering new AgentExecutor chain...\u001b[0m\n",
      "\u001b[32;1m\u001b[1;3m\n",
      "Invoking: `tavily_search_results_json` with `{'query': 'weather in Ahmedabad'}`\n",
      "\n",
      "\n",
      "\u001b[0m\u001b[36;1m\u001b[1;3m[{'url': 'https://www.weatherapi.com/', 'content': \"{'location': {'name': 'Ahmedabad', 'region': 'Gujarat', 'country': 'India', 'lat': 23.0333, 'lon': 72.6167, 'tz_id': 'Asia/Kolkata', 'localtime_epoch': 1730969799, 'localtime': '2024-11-07 14:26'}, 'current': {'last_updated_epoch': 1730969100, 'last_updated': '2024-11-07 14:15', 'temp_c': 34.0, 'temp_f': 93.2, 'is_day': 1, 'condition': {'text': 'Overcast', 'icon': '//cdn.weatherapi.com/weather/64x64/day/122.png', 'code': 1009}, 'wind_mph': 2.2, 'wind_kph': 3.6, 'wind_degree': 303, 'wind_dir': 'WNW', 'pressure_mb': 1012.0, 'pressure_in': 29.88, 'precip_mm': 0.0, 'precip_in': 0.0, 'humidity': 30, 'cloud': 0, 'feelslike_c': 32.6, 'feelslike_f': 90.7, 'windchill_c': 34.8, 'windchill_f': 94.6, 'heatindex_c': 33.6, 'heatindex_f': 92.4, 'dewpoint_c': 10.9, 'dewpoint_f': 51.6, 'vis_km': 4.0, 'vis_miles': 2.0, 'uv': 4.7, 'gust_mph': 6.7, 'gust_kph': 10.8}}\"}, {'url': 'https://www.hindustantimes.com/cities/ahmedabad-weather-today-aqi-and-rain-forecast-updates-july-11-2024-101720661421164.html', 'content': \"The temperature in Ahmedabad today, on July 11, 2024, is 33.16 °C. The day's forecast indicates a minimum and maximum temperature of 29.43 °C and 34.89 °C, respectively.\"}, {'url': 'https://www.weatherandradar.in/weather/ahmedabad/4745796', 'content': 'Current weather for Ahmedabad Weather Ahmedabad\\xa0 26° AQI 40 Good 90 Min. Weather heavy rain  1\\xa0h 4\\xa0h 5\\xa0h 4\\xa0h 5\\xa0h 3\\xa0h 3\\xa0h 3\\xa0h 4\\xa0h 4\\xa0h 4\\xa0h 4\\xa0h 5\\xa0h 5\\xa0h during the day evening / night light wind from W (15\\xa0kph) Top News  -----------------------------------------------------------------------------------------  Weather Alert Heavy Rain Destroys Crops in Maharashtra ---------------------------------------- 14 day weather Min (°C) 6-Day UV Forecast Wind W 7 kph Weather Station Ahmadabad Airport Forecast Map  --------------------------------------------------------------------------------------------- today 6-Day Air Quality Forecast Astro info 12h 28min Privacy policy | Legal info'}, {'url': 'https://www.timeanddate.com/weather/india/ahmadabad/hourly', 'content': 'Hour-by-Hour Forecast for Ahmedabad, Gujarat, India. Weather Today Weather Hourly 14 Day Forecast Yesterday/Past Weather Climate (Averages) Currently: 84 °F. Haze.'}, {'url': 'https://www.timeanddate.com/weather/@1279233/hourly', 'content': 'Time Zone News Calendar & Holiday News Time Zones Time Zones Home Time Zone News Weather Sun Calculator Moon Calculator Calculators Calculators Home Home \\xa0 Weather \\xa0 Ahmedabad \\xa0 Hour-by-hour Weather Time Zone Weather TodayWeather Hourly14 Day ForecastYesterday/Past WeatherClimate (Averages) °F See Extended Forecast for more weather Show weather on:  | 10:00 pm |  | 80\\xa0°F | Scattered clouds. | 11:00 pm |  | 82\\xa0°F | Scattered clouds. | 8:00 am |  | 82\\xa0°F | Cloudy. | 10:00 am |  | 86\\xa0°F | Scattered clouds. | * Updated Saturday, August 31, 2024 6:32:57 pm Ahmedabad time - Weather by CustomWeather, © 2024 |'}]\u001b[0m\u001b[32;1m\u001b[1;3mThe current weather in Ahmedabad is 34°C (93.2°F) with an overcast condition and a feelslike temperature of 32.6°C (90.7°F).\u001b[0m\n",
      "\n",
      "\u001b[1m> Finished chain.\u001b[0m\n"
     ]
    },
    {
     "data": {
      "text/plain": [
       "{'input': 'what is the weather in Ahmedabad',\n",
       " 'output': 'The current weather in Ahmedabad is 34°C (93.2°F) with an overcast condition and a feelslike temperature of 32.6°C (90.7°F).'}"
      ]
     },
     "execution_count": 20,
     "metadata": {},
     "output_type": "execute_result"
    }
   ],
   "source": [
    "agent_executor.invoke({\"input\": \"what is the weather in Ahmedabad\"})"
   ]
  },
  {
   "cell_type": "code",
   "execution_count": 23,
   "metadata": {},
   "outputs": [
    {
     "name": "stdout",
     "output_type": "stream",
     "text": [
      "\n",
      "\n",
      "\u001b[1m> Entering new AgentExecutor chain...\u001b[0m\n",
      "\u001b[32;1m\u001b[1;3m\n",
      "Invoking: `langsmith_search` with `{'query': 'change port in langsmith'}`\n",
      "\n",
      "\n",
      "\u001b[0m\u001b[33;1m\u001b[1;3mGet started with LangSmith | 🦜️🛠️ LangSmith\n",
      "\n",
      "Skip to main contentGo to API DocsSearchRegionUSEUGo to AppQuick startObservabilityEvaluationPrompt EngineeringDeployment (LangGraph Cloud)AdministrationSelf-hostingReferenceQuick startOn this pageGet started with LangSmith\n",
      "LangSmith is a platform for building production-grade LLM applications. It allows you to closely monitor and evaluate your application, so you can ship quickly and with confidence. Use of LangChain is not necessary - LangSmith works on its own!\n",
      "1. Install LangSmith​\n",
      "PythonTypeScriptpip install -U langsmith openaiyarn add langsmith openai\n",
      "2. Create an API key​\n",
      "To create an API key head to the Settings page. Then click Create API Key.\n",
      "3. Set up your environment​\n",
      "Shellexport LANGCHAIN_TRACING_V2=trueexport LANGCHAIN_API_KEY=<your-api-key># The below examples use the OpenAI API, though it's not necessary in generalexport OPENAI_API_KEY=<your-openai-api-key>\n",
      "4. Log your first trace​\n",
      "\n",
      "Learn more about evaluation in the how-to guides.\n",
      "Was this page helpful?You can leave detailed feedback on GitHub.NextConcepts1. Install LangSmith2. Create an API key3. Set up your environment4. Log your first trace5. Run your first evaluationCommunityDiscordTwitterGitHubDocs CodeLangSmith SDKPythonJS/TSMoreHomepageBlogLangChain Python DocsLangChain JS/TS DocsCopyright © 2024 LangChain, Inc.\n",
      "\n",
      "4. Log your first trace​\n",
      "Tracing to LangSmith for LangChain usersThere is no need to use the LangSmith SDK directly if your application is built entirely on LangChain (either Python and JS).We've outlined a tracing guide specifically for LangChain users here.\n",
      "We provide multiple ways to log traces to LangSmith. Below, we'll highlight\n",
      "how to use traceable. See more on the Annotate code for tracing page.\u001b[0m\u001b[32;1m\u001b[1;3m\n",
      "Invoking: `tavily_search_results_json` with `{'query': 'change port in langsmith'}`\n",
      "\n",
      "\n",
      "\u001b[0m\u001b[36;1m\u001b[1;3m[{'url': 'https://langchain-ai.github.io/langgraph/how-tos/deploy-self-hosted/', 'content': 'LANGSMITH_API_KEY: (If using [Self-Hosted Lite]) LangSmith API key. This will be used to authenticate ONCE at server start up. ... This will spin up LangGraph Deploy on port 8123 (if you want to change this, you can change this by changing the ports in the langgraph-api volume). You can test that the application is up by checking:'}, {'url': 'https://github.com/langchain-ai/langsmith-sdk/issues/619', 'content': \"Notifications You must be signed in to change notification settings; Fork 76; Star 405. Code; Issues 52; Pull requests 28; ... (host='api.smith.langchain.com', port=443): Read timed out. (read timeout=30.0) issues using the LangSmith client #619. Closed daniel-glez-ntsprint opened ... LangSmith 0.1.47. Suggestion: No response. The text was\"}, {'url': 'https://docs.smith.langchain.com/self_hosting/usage', 'content': 'LangSmith has two APIs: One for interacting with the LangChain Hub/prompts and one for interacting with the backend of the LangSmith application. Each exists at its own URL and in a self-hosted environment are set via the LANGCHAIN_HUB_API_URL and LANGCHAIN_ENDPOINT environment variables, respectively, and have their own separate SDKs.'}, {'url': 'https://docs.smith.lang.chat/how_to_guides/playground', 'content': \"This section contains how-to guides related to the LangSmith playground. 📄️ Use a custom model. The LangSmith playground allows you to use your own custom models. You can deploy a model server that exposes your model's API via LangServe, an open source library for serving LangChain applications. 📄️ Use custom TLS certificates\"}, {'url': 'https://medium.com/@lei.shang/getting-started-with-langsmith-a-step-by-step-walkthrough-a5ca09adca43', 'content': 'You’ve successfully completed your first LangSmith project.\\n--\\n--\\nWritten by Lei Shang\\nMore from Lei Shang\\nLei Shang\\nRunning Llama 2 on Your Local GPU\\nMeta and Microsoft recently introduced the Next Generation of Llama (Llama 2) on July 18, 2023 and it was since integrated into Hugging…\\n--\\n2\\nLei Shang\\nExperimenting Agents and Tools with Llama 2 Model on a Local GPU\\nAn Adventure into Cost-Effective LLM Solutions\\n--\\nLei Shang\\nFine-Tune a Llama 2 Model on a Single GPU\\nPractical Text Summarization with Llama 2 Model\\n--\\n1\\nRecommended from Medium\\nLogan Kilpatrick\\nWhat is LangSmith and why should I care as a developer?\\n --\\nDr. Ernesto Lee\\nCreating a Streamlit User Interface for AutoGen Agents\\nIntroduction\\n--\\nKrishna Yogi\\nBuilding a question-answering system using LLM on your private data\\n--\\n6\\nHelp\\nStatus\\nAbout\\nCareers\\nBlog\\nPrivacy\\nTerms\\nText to speech\\nTeams A deep dive into the latest product from the creators of LangChain 🦜\\n--\\n3\\nCobus Greyling\\nLangSmith\\nI was fortunate to get early access to the LangSmith platform and in this article you will find practical code examples and demonstration…\\n--\\nLists\\nNatural Language Processing\\nStaff Picks\\nLawrence Knight\\nin\\nDev Genius\\nBuild your First Conversational Document Retrieval Agent using Llama 2 and LangChain\\n Member-only story\\nGetting Started with LangSmith: A Step-by-Step Walkthrough\\nLei Shang\\nFollow\\n--\\nShare\\nLangChain just announced LangSmith: https://blog.langchain.dev/announcing-langsmith/\\nTo help you and myself get started and understand the immense potential of LangSmith, let’s walk through a minimal example:\\nNote: you will need your OpenAI API key to run the below example project. Install the dependency:\\n2) Configure environment to connect to LangSmith:\\n3) Run the Hello World example:Config your OpenAPI key:\\nRun the following Python code from the terminal or your IDE:\\nStep 4: Check the trace of your projectYou should be able to find your run from your LangSmith project page as shown below:\\nYou could find more details about your project by clicking on the project name:\\nCongratulations!'}]\u001b[0m\u001b[32;1m\u001b[1;3mIt seems like the tool call yielded a list of search results related to changing the port in LangSmith. Based on the results, it appears that LangSmith uses port 8123 by default, but you can change this by modifying the ports in the langgraph-api volume. Additionally, there are environment variables such as LANGCHAIN_HUB_API_URL and LANGCHAIN_ENDPOINT that can be used to configure the APIs in a self-hosted environment.\u001b[0m\n",
      "\n",
      "\u001b[1m> Finished chain.\u001b[0m\n"
     ]
    },
    {
     "data": {
      "text/plain": [
       "{'input': 'change port in langsmith',\n",
       " 'output': 'It seems like the tool call yielded a list of search results related to changing the port in LangSmith. Based on the results, it appears that LangSmith uses port 8123 by default, but you can change this by modifying the ports in the langgraph-api volume. Additionally, there are environment variables such as LANGCHAIN_HUB_API_URL and LANGCHAIN_ENDPOINT that can be used to configure the APIs in a self-hosted environment.'}"
      ]
     },
     "execution_count": 23,
     "metadata": {},
     "output_type": "execute_result"
    }
   ],
   "source": [
    "agent_executor.invoke({\"input\": \"change port in langsmith\"})"
   ]
  },
  {
   "cell_type": "code",
   "execution_count": null,
   "metadata": {},
   "outputs": [],
   "source": []
  }
 ],
 "metadata": {
  "kernelspec": {
   "display_name": "env",
   "language": "python",
   "name": "python3"
  },
  "language_info": {
   "codemirror_mode": {
    "name": "ipython",
    "version": 3
   },
   "file_extension": ".py",
   "mimetype": "text/x-python",
   "name": "python",
   "nbconvert_exporter": "python",
   "pygments_lexer": "ipython3",
   "version": "3.9.20"
  }
 },
 "nbformat": 4,
 "nbformat_minor": 2
}
